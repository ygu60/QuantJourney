{
 "cells": [
  {
   "cell_type": "markdown",
   "id": "cd520c26",
   "metadata": {},
   "source": [
    "# Green Book Python Solutions\n",
    "#### This jupyter notebook will serve as my personal workspace as I work through [Green Book - Xinfeng Zhou](https://academyflex.com/wp-content/uploads/2024/03/a-practical-guide-to-quantitative-finance-interviews.pdf)\n",
    "#### Solutions will be documented as such:\n",
    "1. An introduction of the question with context and categorization (Stats, Probability, Markets, etc.)\n",
    "2. A mark down explanation of my initial thought process and immediate approach.\n",
    "3. Coded solution to the given problem.\n",
    "4. A post problem analysis of alternative approaches and evaluation of my approach, including a concise quantitative self-assessment:\n",
    "    - **Note one area for improvement.**\n",
    "    - **Rate 1–5 (with brief justification) on:**\n",
    "        - Correctness\n",
    "        - Efficiency\n",
    "        - Clarity\n",
    "    "
   ]
  },
  {
   "cell_type": "markdown",
   "id": "c953f531",
   "metadata": {},
   "source": [
    "## Problem Title: Screwy pirates\n",
    "**Category:** Probability / Logic\n",
    "\n",
    "**Context:**\n",
    "Five pirates looted a chest full of 100 gold coins. Being a bunch of democratic pirates, they agree on the following method to divide the loot:\n",
    "The **most senior pirate will propose a distribution of the coins**. All pirates, _including the most senior pirate_, will then vote. If **at least 50% of the pirates** (3 pirates in this case) accept the proposal, the gold is divided as proposed. If not, the most senior pirate will be fed to the shark and the process starts over with the next most senior pirate. The process is repeated until a plan is approved.\n",
    "You can assume that all pirates are perfectly rational: they want to stay alive first and to get as much gold as possible second. Finally, being blood-thirsty pirates, they want to have fewer pirates on the boat if given a choice between otherwise equal outcomes.\n",
    "\n",
    "**Question:**\n",
    "How will the gold coins be divided in the end?"
   ]
  },
  {
   "cell_type": "markdown",
   "id": "cdaf6f65",
   "metadata": {},
   "source": [
    "**Initial Thought Process & Approach:**\n",
    "- The pirates $R_i$ (where i indicates seniority 1 being the most senior) prioritize staying alive then gold next \n",
    "- The pirates do not care about morality and will screw each other over.\n",
    "- There are N pirates present for each iteration i of voting. For successful distribution $V_{y_{total}} = \\sum_{i=1}^{N}V_{i} \\ge \\frac{N}{2}$ Given $V_{i} = \\{1(yes),0(no)\\}$\n",
    "- For any given voting event we may assume that the most senior pirate will vote yes so $V_{y_{total}}$ is always $\\gt 1$\n",
    "- For each pirate there exists $P_1$ and $P_0$ (probability yes and probability no) where $P_1 = 1-P_0$\n",
    "- Imagine for the case $N=5$\n",
    "    - $P_1(R_1)$ = 1 as obviously he would like to live.\n",
    "    - Consider that $R_1$ proposes an even split\n",
    "        - All other pirates would conclude that they could simply kill $R_1$ and redistribute his profit $\\therefore$ even split doesn't work.\n",
    "    - Consider then that $R_1$ excludes himself from the pot and again splits the pot evenly where each pirate gets $\\frac{100}{N-1}$\n",
    "        - While the remaining four pirates may have maximized their individual profit they still have an opportunity to kill $R_1$ $\\therefore$ $R_1$ dies anyways.\n",
    "    - The conclusion for $N=5$ is that there is no way for $R_1$ to live.\n",
    "        - It's worth considering that perhaps $R_2$ has some foresight to consider that he will be next on the chopping block in which case we should consider the $N=4$ case.\n",
    "- Case $N=4$\n",
    "    - Again $P_1(R_1)$ = 1\n",
    "    - Consider Even split\n",
    "        - while profit is maximized for each pirate, the remaining junior pirates could just vote to kill $R_1$ and gain his share $\\therefore$ even split doesn't work\n",
    "    - Next $R_1$ gets 0 and the rest is split among $N-1$ pirates.\n",
    "        - the same logic from before applies. $R_1$ dies.\n",
    "- Follow this line of reasoning to $N=2$ which is the first point when the senior pirate's vote can change the outcome of voting.\n",
    "    - For $N=2$ $P_1(R_1) = 1$ and so he can end the vote with his vote alone and live. Therefore the most logical course of action for him is to allocate all 100 coins to himself and end the process.\n",
    "\n",
    "It's important to note that if these pirates are very smart then for the $N=5$ case $R_{2,3}$ would have considered this outcome and could have accepted any distribution to avoid death.\n",
    "\n",
    "If in this case then that $R_{1,2,3}$ are smart then $R_1$ will be able to convince $R_{2,3}$ to take an even distribution among them three to maximize their profits and still live\n",
    "\n",
    "*Dumb Pirates Case*: $N=2$ and $R_1$ takes all 100 coins.\n",
    "\n",
    "**Final Solution:**\n",
    "\n",
    "*Smart Pirates Case*: $N=5$ and the distribution is will be an even split among the top 3 senior pirates, because $R_{2,3}$ see the dumb pirate case and prioritize living, while also gaining maximum profit. $R_{4,5}$ have no say in the vote."
   ]
  },
  {
   "cell_type": "markdown",
   "id": "15ba1561",
   "metadata": {},
   "source": [
    "**Post-Problem Analysis:**\n",
    "- **Grade: 2**\n",
    "    - Correctness: 1 - Reasoning seemed logical, but from a game theory standpoint this is just the wrong solution.\n",
    "    - Efficiency: 1 - Took 31:19 to arrive at the wrong solution.\n",
    "    - Clarity: 4 - Clearly conveyed thought process just took the wrong approach\n",
    "- **Correct Approach**\n",
    "    - Begin with the simplest non trivial case: $N=2$ \n",
    "        - In this case $R_2$ gets 100 and $R_1$ gets 0\n",
    "    - Next go to $N=3$\n",
    "        - If $R_3$ maximizes 100 gold, he will be voted off and then $N=2$ will occur and $R_1$ will get nothing, but if $R_3$ offers $R_1$ gold then he will have improved his maximum outcome $\\therefore$ for $N=3$ $R_3 = 99$ and $R_1 = 1$\n",
    "    - $N=4$\n",
    "        - $R_4$ only needs 1 vote, so the distribution becomes $R_4 = 99$ and $R_2 = 1$, because if the vote goes to 3 member $R_2$ will get 0 gold so 1 gold is enough to earn $R_2$'s vote.\n",
    "    - Finally $N=5$\n",
    "        - $R_5$ now needs 2 additional votes to succeed. Again he can offer $R_1$ 1 coin (as going to 4 votes means $R_1$ gets 0 gold). $R_2$ will vote no as $N=4$ will net him more than 0. If $R_3$ votes no, then we get the $N=4$ case in which case $R_3$ gets 0 gold, so logically $R_3$ is maximized at 1 coin. So the final distribution is: $R_5 = 98$, $R_3=1$, $R_1=1$. \n",
    "- **Revisions:**\n",
    "    - Begin with the simplist possible case and work up in complexity.\n",
    "    - Maximize is not generally equitable."
   ]
  },
  {
   "cell_type": "markdown",
   "id": "a521fdb4",
   "metadata": {},
   "source": [
    "## Problem Title: Tiger and sheep\n",
    "\n",
    "**Category:** Logic / Probability\n",
    "\n",
    "**Context:**\n",
    "One hundred tigers and one sheep are put on a magic island that only has grass. Tigers can eat grass, but they would rather eat sheep.\n",
    "Assume:\n",
    "A. Each time only one tiger can eat one sheep, and that tiger itself will become a sheep after it eats the sheep.\n",
    "B. All tigers are smart and perfectly rational and they want to survive.\n",
    "\n",
    "**Question:**\n",
    "So will the sheep be eaten?"
   ]
  },
  {
   "cell_type": "markdown",
   "id": "3af0e09f",
   "metadata": {},
   "source": [
    "**Initial Thought Process & Approach:**\n",
    "- "
   ]
  },
  {
   "cell_type": "markdown",
   "id": "92d8ea85",
   "metadata": {},
   "source": [
    "**Post-Problem Analysis:**\n",
    "Discuss alternative approaches, evaluate your solution, and reflect on what you learned."
   ]
  },
  {
   "cell_type": "markdown",
   "id": "eb9ac786",
   "metadata": {},
   "source": [
    "## Problem Title: \n",
    "**Category:** \n",
    "\n",
    "**Context:**\n",
    "\n",
    "\n",
    "**Question:**\n"
   ]
  },
  {
   "cell_type": "markdown",
   "id": "16eebf52",
   "metadata": {},
   "source": [
    "**Initial Thought Process & Approach:**\n",
    "- "
   ]
  },
  {
   "cell_type": "code",
   "execution_count": null,
   "id": "6d8ab12e",
   "metadata": {},
   "outputs": [],
   "source": [
    "# Solution code goes here\n",
    "# Example:\n",
    "# def solve_problem(...):\n",
    "#     pass"
   ]
  },
  {
   "cell_type": "markdown",
   "id": "ac5d2335",
   "metadata": {},
   "source": [
    "**Post-Problem Analysis:**\n",
    "Discuss alternative approaches, evaluate your solution, and reflect on what you learned."
   ]
  }
 ],
 "metadata": {
  "language_info": {
   "name": "python"
  }
 },
 "nbformat": 4,
 "nbformat_minor": 5
}
